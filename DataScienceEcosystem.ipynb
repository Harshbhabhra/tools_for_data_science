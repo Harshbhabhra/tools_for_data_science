{
 "cells": [
  {
   "cell_type": "markdown",
   "id": "fd6b63bb-8e5a-4fc4-8820-f63f10051071",
   "metadata": {},
   "source": [
    "# Data Science Tools and Ecosystem"
   ]
  },
  {
   "cell_type": "markdown",
   "id": "39992bd5-b519-4cca-82aa-554c9038c1e6",
   "metadata": {},
   "source": [
    "### Jupyter Notebook is a popular web-based interactive computing environment that allows users to create and share documents containing live code, visualizations, explanatory text, and more."
   ]
  },
  {
   "cell_type": "markdown",
   "id": "74c49f47-24eb-4411-8be2-47c83c22590e",
   "metadata": {},
   "source": [
    "Some of the popular languages that Data Scientists use are:\n",
    "1. Python \n",
    "2. R\n",
    "3. Julia\n",
    "4. SQL\n",
    "5. Scala\n",
    "6. Java\n",
    "7. C++\n",
    "\n",
    "\n",
    "    \n"
   ]
  },
  {
   "cell_type": "markdown",
   "id": "937aacf5-17ab-47da-8a4b-d8af900f866f",
   "metadata": {},
   "source": [
    "Some of the commonly used libraries used by Data Scientists include:\n",
    "1. NumPy\n",
    "2. Pandas\n",
    "3. Matplotlib\n",
    "4. Seaborn\n",
    "5. Scikit-learn\n",
    "6. TensorFlow\n",
    "7. Keras\n",
    "\n"
   ]
  },
  {
   "cell_type": "markdown",
   "id": "b8b18add-70b9-4871-bba3-f217a5655ff7",
   "metadata": {},
   "source": [
    "| Data Science Tools |\n",
    "|--------------------|\n",
    "| Jupyter Notebook   |\n",
    "| RStudio            |\n",
    "| Anaconda           |"
   ]
  },
  {
   "cell_type": "markdown",
   "id": "b5a72dd1-f1f2-47fb-841b-b0e1a9d7f7fa",
   "metadata": {},
   "source": [
    "### Below are a few examples of evaluating arithmetic expressions in Python."
   ]
  },
  {
   "cell_type": "code",
   "execution_count": 1,
   "id": "225e5dc0-40fe-48c9-a79c-3650d1b9dd0b",
   "metadata": {
    "tags": []
   },
   "outputs": [
    {
     "data": {
      "text/plain": [
       "17"
      ]
     },
     "execution_count": 1,
     "metadata": {},
     "output_type": "execute_result"
    }
   ],
   "source": [
    "result = (3*4)+5\n",
    "result\n"
   ]
  },
  {
   "cell_type": "code",
   "execution_count": 1,
   "id": "3a2496a3-0998-4331-8108-19c66da22c7c",
   "metadata": {
    "tags": []
   },
   "outputs": [
    {
     "data": {
      "text/plain": [
       "3.3333333333333335"
      ]
     },
     "execution_count": 1,
     "metadata": {},
     "output_type": "execute_result"
    }
   ],
   "source": [
    "# This will convert 200 minutes to hours by dividing by 60\n",
    "minutes = 200\n",
    "hours = minutes / 60\n",
    "hours\n"
   ]
  },
  {
   "cell_type": "markdown",
   "id": "b8460c5e-0ea4-42aa-b6ef-a387e7a69d8a",
   "metadata": {},
   "source": [
    "**Objectives**: List popular languages for Data Science.\n",
    "- R\n",
    "- SQL\n",
    "- Python\n",
    "- JULIA\n",
    "\n"
   ]
  },
  {
   "cell_type": "markdown",
   "id": "28f57408-e29e-41bd-9189-8aa8d59e8b0d",
   "metadata": {},
   "source": [
    "# AUTHOR"
   ]
  },
  {
   "cell_type": "markdown",
   "id": "bd5001ff-8e1b-45d6-adc6-41318d736188",
   "metadata": {},
   "source": [
    "NAME : HARSH BHABHRA"
   ]
  },
  {
   "cell_type": "code",
   "execution_count": null,
   "id": "99768655-94d3-45e8-ae4f-e95f3ef680d3",
   "metadata": {},
   "outputs": [],
   "source": []
  }
 ],
 "metadata": {
  "kernelspec": {
   "display_name": "Python",
   "language": "python",
   "name": "conda-env-python-py"
  },
  "language_info": {
   "codemirror_mode": {
    "name": "ipython",
    "version": 3
   },
   "file_extension": ".py",
   "mimetype": "text/x-python",
   "name": "python",
   "nbconvert_exporter": "python",
   "pygments_lexer": "ipython3",
   "version": "3.7.12"
  }
 },
 "nbformat": 4,
 "nbformat_minor": 5
}
